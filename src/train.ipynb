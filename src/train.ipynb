{
 "cells": [
  {
   "cell_type": "code",
   "execution_count": null,
   "metadata": {},
   "outputs": [],
   "source": [
    "import pandas as pd\n",
    "from sklearn import preprocessing\n",
    "from sklearn import ensemble\n",
    "import os\n"
   ]
  },
  {
   "cell_type": "code",
   "execution_count": null,
   "metadata": {},
   "outputs": [],
   "source": [
    "TRAINING_DATA = os.environ.get(\"TRAINING_DATA\")\n",
    "TEST_DATA = os.environ.get(\"TEST_DATA\")\n",
    "FOLD = os.environ.get(\"FOLD\")\n",
    "\n",
    "TRAINING_DATA = '../input/train_folds.csv'\n",
    "TEST_DATA = '../input/test.csv'\n",
    "FOLD = 1\n"
   ]
  },
  {
   "cell_type": "code",
   "execution_count": null,
   "metadata": {},
   "outputs": [],
   "source": [
    "FOLD_MAPPING = {\n",
    "    0:[1,2,3,4],\n",
    "    1:[0,2,3,4],\n",
    "    2:[0,1,3,4],\n",
    "    3:[0,1,2,4],\n",
    "    4:[0,1,2,3]\n",
    "}"
   ]
  },
  {
   "cell_type": "code",
   "execution_count": null,
   "metadata": {},
   "outputs": [],
   "source": [
    "    df = pd.read_csv(TRAINING_DATA)\n",
    "    train_df = df[df.kfold.isin(FOLD_MAPPING.get(FOLD))]\n",
    "    valid_df = df[df.kfold==FOLD]"
   ]
  },
  {
   "cell_type": "code",
   "execution_count": null,
   "metadata": {},
   "outputs": [],
   "source": [
    "ytrain = train_df.target.values\n",
    "yvalid = valid_df.target.values\n",
    "\n",
    "train_df = train_df.drop(['id','target','kfold'],axis=1)\n",
    "valid_df = valid_df.drop(['id','target','kfold'],axis=1)"
   ]
  },
  {
   "cell_type": "code",
   "execution_count": null,
   "metadata": {},
   "outputs": [],
   "source": [
    "valid_df = valid_df[train_df.columns]"
   ]
  },
  {
   "cell_type": "code",
   "execution_count": null,
   "metadata": {},
   "outputs": [],
   "source": [
    "label_encoders = []\n",
    "for c in train_df.columns:\n",
    "    lbl = preprocessing.LabelEncoder()\n",
    "    lbl.fit(train_df[c].values.tolist()+valid_df[c].values.tolist())\n",
    "    train_df.loc[:,c] = lbl.transform(train_df[c].values.tolist())\n",
    "    valid_df.loc[:,c] = lbl.transform(valid_df[c].values.tolist())\n",
    "    label_encoders.append((c, lbl))\n",
    "\n",
    "    "
   ]
  },
  {
   "cell_type": "code",
   "execution_count": null,
   "metadata": {},
   "outputs": [],
   "source": [
    "clf = ensemble.RandomForestClassifier(n_jobs=-1, verbose=2)"
   ]
  },
  {
   "cell_type": "code",
   "execution_count": null,
   "metadata": {},
   "outputs": [],
   "source": [
    "clf.fit(train_df, ytrain)"
   ]
  },
  {
   "cell_type": "code",
   "execution_count": null,
   "metadata": {},
   "outputs": [],
   "source": [
    "preds = clf.predict_proba(valid_df)[:,1]"
   ]
  },
  {
   "cell_type": "code",
   "execution_count": null,
   "metadata": {},
   "outputs": [],
   "source": [
    "preds"
   ]
  },
  {
   "cell_type": "code",
   "execution_count": null,
   "metadata": {},
   "outputs": [],
   "source": []
  }
 ],
 "metadata": {
  "kernelspec": {
   "display_name": "Python 3.9.5 ('kaggle')",
   "language": "python",
   "name": "python3"
  },
  "language_info": {
   "codemirror_mode": {
    "name": "ipython",
    "version": 3
   },
   "file_extension": ".py",
   "mimetype": "text/x-python",
   "name": "python",
   "nbconvert_exporter": "python",
   "pygments_lexer": "ipython3",
   "version": "3.9.12"
  },
  "orig_nbformat": 4,
  "vscode": {
   "interpreter": {
    "hash": "96b6d087958251ebea0b7cf39c5f1734093821353a9780ad2a63e24e830d89a1"
   }
  }
 },
 "nbformat": 4,
 "nbformat_minor": 2
}
